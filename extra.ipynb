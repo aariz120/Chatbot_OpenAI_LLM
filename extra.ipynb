{
 "cells": [
  {
   "cell_type": "code",
   "execution_count": 1,
   "metadata": {},
   "outputs": [
    {
     "name": "stdout",
     "output_type": "stream",
     "text": [
      "hello world\n"
     ]
    }
   ],
   "source": [
    "print(\"hello world\")"
   ]
  },
  {
   "cell_type": "code",
   "execution_count": 20,
   "metadata": {},
   "outputs": [
    {
     "name": "stdout",
     "output_type": "stream",
     "text": [
      "calendar of the year 1947 is : \n",
      "                                  1947\n",
      "\n",
      "      January                   February                   March\n",
      "Mo Tu We Th Fr Sa Su      Mo Tu We Th Fr Sa Su      Mo Tu We Th Fr Sa Su\n",
      "       1  2  3  4  5                      1  2                      1  2\n",
      " 6  7  8  9 10 11 12       3  4  5  6  7  8  9       3  4  5  6  7  8  9\n",
      "13 14 15 16 17 18 19      10 11 12 13 14 15 16      10 11 12 13 14 15 16\n",
      "20 21 22 23 24 25 26      17 18 19 20 21 22 23      17 18 19 20 21 22 23\n",
      "27 28 29 30 31            24 25 26 27 28            24 25 26 27 28 29 30\n",
      "                                                    31\n",
      "\n",
      "       April                      May                       June\n",
      "Mo Tu We Th Fr Sa Su      Mo Tu We Th Fr Sa Su      Mo Tu We Th Fr Sa Su\n",
      "    1  2  3  4  5  6                1  2  3  4                         1\n",
      " 7  8  9 10 11 12 13       5  6  7  8  9 10 11       2  3  4  5  6  7  8\n",
      "14 15 16 17 18 19 20      12 13 14 15 16 17 18       9 10 11 12 13 14 15\n",
      "21 22 23 24 25 26 27      19 20 21 22 23 24 25      16 17 18 19 20 21 22\n",
      "28 29 30                  26 27 28 29 30 31         23 24 25 26 27 28 29\n",
      "                                                    30\n",
      "\n",
      "        July                     August                  September\n",
      "Mo Tu We Th Fr Sa Su      Mo Tu We Th Fr Sa Su      Mo Tu We Th Fr Sa Su\n",
      "    1  2  3  4  5  6                   1  2  3       1  2  3  4  5  6  7\n",
      " 7  8  9 10 11 12 13       4  5  6  7  8  9 10       8  9 10 11 12 13 14\n",
      "14 15 16 17 18 19 20      11 12 13 14 15 16 17      15 16 17 18 19 20 21\n",
      "21 22 23 24 25 26 27      18 19 20 21 22 23 24      22 23 24 25 26 27 28\n",
      "28 29 30 31               25 26 27 28 29 30 31      29 30\n",
      "\n",
      "      October                   November                  December\n",
      "Mo Tu We Th Fr Sa Su      Mo Tu We Th Fr Sa Su      Mo Tu We Th Fr Sa Su\n",
      "       1  2  3  4  5                      1  2       1  2  3  4  5  6  7\n",
      " 6  7  8  9 10 11 12       3  4  5  6  7  8  9       8  9 10 11 12 13 14\n",
      "13 14 15 16 17 18 19      10 11 12 13 14 15 16      15 16 17 18 19 20 21\n",
      "20 21 22 23 24 25 26      17 18 19 20 21 22 23      22 23 24 25 26 27 28\n",
      "27 28 29 30 31            24 25 26 27 28 29 30      29 30 31\n",
      "\n"
     ]
    }
   ],
   "source": [
    "import calendar\n",
    "from calendar import TextCalendar\n",
    "#year=2024\n",
    "#month=11\n",
    "\n",
    "cal=calendar.calendar(1947)\n",
    "\n",
    "#cal=calendar.month(2024,12)\n",
    "\n",
    "print(\"calendar of the year 1947 is : \")\n",
    "\n",
    "print(cal)\n",
    "\n",
    "\n",
    "\n"
   ]
  },
  {
   "cell_type": "code",
   "execution_count": 21,
   "metadata": {},
   "outputs": [
    {
     "name": "stdout",
     "output_type": "stream",
     "text": [
      "   September 2018\n",
      "Mo Tu We Th Fr Sa Su\n",
      "                1  2\n",
      " 3  4  5  6  7  8  9\n",
      "10 11 12 13 14 15 16\n",
      "17 18 19 20 21 22 23\n",
      "24 25 26 27 28 29 30\n",
      "None\n"
     ]
    }
   ],
   "source": [
    "import calendar\n",
    "text_cal = calendar.TextCalendar(firstweekday = 0)\n",
    "year = 2018\n",
    "month = 9\n",
    "\n",
    "print(text_cal.prmonth(year, month))"
   ]
  },
  {
   "cell_type": "code",
   "execution_count": null,
   "metadata": {},
   "outputs": [],
   "source": []
  }
 ],
 "metadata": {
  "kernelspec": {
   "display_name": "base",
   "language": "python",
   "name": "python3"
  },
  "language_info": {
   "codemirror_mode": {
    "name": "ipython",
    "version": 3
   },
   "file_extension": ".py",
   "mimetype": "text/x-python",
   "name": "python",
   "nbconvert_exporter": "python",
   "pygments_lexer": "ipython3",
   "version": "3.11.7"
  }
 },
 "nbformat": 4,
 "nbformat_minor": 2
}
